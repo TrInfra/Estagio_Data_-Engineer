{
 "cells": [
  {
   "cell_type": "code",
   "execution_count": 2,
   "id": "2a359f3f-b3da-4184-8b52-b53202547c82",
   "metadata": {},
   "outputs": [
    {
     "data": {
      "text/html": [
       "<div>\n",
       "<style scoped>\n",
       "    .dataframe tbody tr th:only-of-type {\n",
       "        vertical-align: middle;\n",
       "    }\n",
       "\n",
       "    .dataframe tbody tr th {\n",
       "        vertical-align: top;\n",
       "    }\n",
       "\n",
       "    .dataframe thead th {\n",
       "        text-align: right;\n",
       "    }\n",
       "</style>\n",
       "<table border=\"1\" class=\"dataframe\">\n",
       "  <thead>\n",
       "    <tr style=\"text-align: right;\">\n",
       "      <th></th>\n",
       "      <th>Titulo</th>\n",
       "      <th>Data de lançamento</th>\n",
       "      <th>Visão geral</th>\n",
       "      <th>Votos</th>\n",
       "      <th>Média de votos:</th>\n",
       "    </tr>\n",
       "  </thead>\n",
       "  <tbody>\n",
       "    <tr>\n",
       "      <th>0</th>\n",
       "      <td>O Túmulo dos Vagalumes</td>\n",
       "      <td>1988-04-16</td>\n",
       "      <td>O filme relata a história de dois irmãos, Seit...</td>\n",
       "      <td>5326</td>\n",
       "      <td>8.458</td>\n",
       "    </tr>\n",
       "  </tbody>\n",
       "</table>\n",
       "</div>"
      ],
      "text/plain": [
       "                   Titulo Data de lançamento  \\\n",
       "0  O Túmulo dos Vagalumes         1988-04-16   \n",
       "\n",
       "                                         Visão geral  Votos  Média de votos:  \n",
       "0  O filme relata a história de dois irmãos, Seit...   5326            8.458  "
      ]
     },
     "metadata": {},
     "output_type": "display_data"
    }
   ],
   "source": [
    "import requests\n",
    "import pandas as pd\n",
    "from IPython.display import display\n",
    "\n",
    "api_key = \"\"\n",
    "url = f\"https://api.themoviedb.org/3/movie/top_rated?api_key={api_key}&language=pt-BR\"\n",
    "response = requests.get(url)\n",
    "data = response. json()\n",
    "filmes = []\n",
    "for movie in data['results']:\n",
    "    df = {'Titulo': movie['title'],\n",
    "    'Data de lançamento': movie['release_date'],\n",
    "    'Visão geral': movie['overview'],\n",
    "    'Votos': movie ['vote_count'],\n",
    "    'Média de votos:': movie['vote_average']}\n",
    "\n",
    "filmes.append (df)\n",
    "df = pd. DataFrame(filmes)\n",
    "display(df)"
   ]
  },
  {
   "cell_type": "code",
   "execution_count": null,
   "id": "15bebe39-033a-45de-8a82-d077cd0ee4f7",
   "metadata": {},
   "outputs": [],
   "source": []
  }
 ],
 "metadata": {
  "kernelspec": {
   "display_name": "Python 3 (ipykernel)",
   "language": "python",
   "name": "python3"
  },
  "language_info": {
   "codemirror_mode": {
    "name": "ipython",
    "version": 3
   },
   "file_extension": ".py",
   "mimetype": "text/x-python",
   "name": "python",
   "nbconvert_exporter": "python",
   "pygments_lexer": "ipython3",
   "version": "3.12.4"
  }
 },
 "nbformat": 4,
 "nbformat_minor": 5
}
