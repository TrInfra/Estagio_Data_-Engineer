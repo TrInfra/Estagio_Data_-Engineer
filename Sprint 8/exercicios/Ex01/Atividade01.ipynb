{
 "cells": [
  {
   "cell_type": "code",
   "execution_count": 7,
   "id": "fa14c4fd-b347-4066-ac5f-af297bcdb40d",
   "metadata": {},
   "outputs": [
    {
     "name": "stdout",
     "output_type": "stream",
     "text": [
      "Defaulting to user installation because normal site-packages is not writeable\n",
      "Requirement already satisfied: names in c:\\users\\srdes\\appdata\\local\\packages\\pythonsoftwarefoundation.python.3.12_qbz5n2kfra8p0\\localcache\\local-packages\\python312\\site-packages (0.3.0)\n",
      "Note: you may need to restart the kernel to use updated packages.\n"
     ]
    },
    {
     "name": "stderr",
     "output_type": "stream",
     "text": [
      "\n",
      "[notice] A new release of pip is available: 24.1 -> 24.1.2\n",
      "[notice] To update, run: C:\\Users\\srdes\\AppData\\Local\\Microsoft\\WindowsApps\\PythonSoftwareFoundation.Python.3.12_qbz5n2kfra8p0\\python.exe -m pip install --upgrade pip\n"
     ]
    }
   ],
   "source": [
    "%pip install names"
   ]
  },
  {
   "cell_type": "markdown",
   "id": "ac48eb1e-34a5-46f5-902a-2ca75bbe27bc",
   "metadata": {},
   "source": [
    "# Etapa 1: Em Python, declare e inicialize uma lista contendo 250 inteiros obtidos de forma aleatória. Após, aplicar o método reverse sobre o conteúdo da lista e imprimir o resultado. "
   ]
  },
  {
   "cell_type": "code",
   "execution_count": 4,
   "id": "f1a7d703-2da8-4d49-ad58-08b4a9c0cbb7",
   "metadata": {},
   "outputs": [
    {
     "name": "stdout",
     "output_type": "stream",
     "text": [
      "[742, 53, 619, 823, 841, 376, 94, 629, 548, 361, 924, 104, 727, 955, 632, 302, 347, 768, 193, 455, 456, 554, 666, 99, 186, 18, 962, 790, 387, 504, 378, 472, 665, 418, 881, 821, 353, 208, 129, 725, 991, 370, 589, 627, 899, 659, 287, 692, 604, 771, 347, 168, 743, 371, 542, 221, 465, 105, 945, 42, 819, 726, 854, 859, 360, 306, 6, 484, 364, 828, 787, 43, 46, 617, 836, 10, 388, 697, 939, 99, 976, 587, 998, 102, 464, 787, 100, 417, 242, 789, 743, 264, 827, 119, 593, 307, 297, 976, 501, 245, 536, 856, 570, 691, 299, 953, 424, 7, 458, 705, 59, 101, 259, 541, 976, 157, 381, 617, 818, 985, 8, 594, 438, 218, 486, 108, 310, 249, 218, 820, 495, 445, 400, 219, 502, 349, 880, 698, 368, 845, 646, 997, 570, 368, 526, 238, 375, 658, 983, 948, 76, 720, 859, 837, 978, 875, 533, 244, 669, 394, 390, 512, 727, 571, 612, 626, 774, 112, 453, 453, 221, 229, 170, 592, 493, 104, 477, 355, 727, 866, 718, 404, 38, 872, 313, 266, 491, 5, 212, 664, 593, 199, 764, 444, 598, 426, 315, 607, 560, 948, 462, 815, 456, 266, 629, 411, 772, 736, 386, 704, 592, 582, 620, 155, 199, 36, 761, 320, 999, 7, 740, 211, 170, 359, 861, 141, 706, 160, 582, 950, 125, 824, 75, 706, 891, 318, 862, 866, 670, 538, 37, 365, 952, 822, 171, 93, 312, 532, 39, 812]\n"
     ]
    }
   ],
   "source": [
    "import random\n",
    "lista = []\n",
    "for i in range(250):\n",
    "    numeros_random = random.randint(1,1000)\n",
    "    lista.append(numeros_random)\n",
    "    lista_invertida = list(reversed(lista))\n",
    "    \n",
    "print(lista_invertida)"
   ]
  },
  {
   "cell_type": "markdown",
   "id": "5ceaa7e5-b92a-42ee-8abb-de0dc0bbcc28",
   "metadata": {},
   "source": [
    "# Etapa 2: Em Python, declare e inicialize uma lista contendo o nome de 20 animais. Ordene-os em ordem crescente e itere sobre os itens, imprimindo um a um (você pode utilizar list comprehension aqui). Na sequência armazene o conteúdo da lista em um arquivo de texto, um item em cada linha, no formato CSV."
   ]
  },
  {
   "cell_type": "code",
   "execution_count": 11,
   "id": "97ec477b-99dc-4385-9afa-106f88c9477e",
   "metadata": {},
   "outputs": [
    {
     "name": "stdout",
     "output_type": "stream",
     "text": [
      "bear\n",
      "dolphin\n",
      "eagle\n",
      "elephant\n",
      "fox\n",
      "giraffe\n",
      "horse\n",
      "lion\n",
      "monkey\n",
      "owl\n",
      "panda\n",
      "penguin\n",
      "rabbit\n",
      "shark\n",
      "snake\n",
      "squirrel\n",
      "turtle\n",
      "whale\n",
      "wolf\n",
      "zebra\n"
     ]
    }
   ],
   "source": [
    "list_animals = ['lion', 'giraffe', 'panda', 'shark', 'rabbit',\n",
    "                'eagle', 'turtle', 'dolphin', 'elephant', 'zebra',\n",
    "                'bear', 'owl', 'snake', 'monkey', 'whale',\n",
    "                'fox', 'horse', 'squirrel', 'penguin', 'wolf']\n",
    "list_animals.sort()\n",
    "\n",
    "for animal in list_animals:\n",
    "    print(animal)\n",
    "\n",
    "with open(\"arquivo_de_animais.csv\",\"w\") as arquivo:\n",
    "    arquivo.write(\"Animals\\n\")\n",
    "    for animal in list_animals:\n",
    "        arquivo.write(animal + \"\\n\")"
   ]
  },
  {
   "cell_type": "markdown",
   "id": "32f3580d-4cd7-413b-bb1a-963cd3324f9b",
   "metadata": {},
   "source": [
    "# Código Python para gerar um dataset de nomes de pessoas."
   ]
  },
  {
   "cell_type": "code",
   "execution_count": 12,
   "id": "93ba6da9-211f-46d7-a344-118b92b446db",
   "metadata": {},
   "outputs": [
    {
     "name": "stdout",
     "output_type": "stream",
     "text": [
      "Gerando 10000000 nomes aleatórios\n"
     ]
    }
   ],
   "source": [
    "import random as rd\n",
    "import time\n",
    "import os\n",
    "import names as nm\n",
    "\n",
    "random.seed(40)\n",
    "nomes_unicos= 3000\n",
    "nomes_aleatorios = 10000000\n",
    "\n",
    "aux=[]\n",
    "\n",
    "for i in range(0,nomes_unicos):\n",
    "    aux.append(nm.get_full_name())\n",
    "print(f\"Gerando {nomes_aleatorios} nomes aleatórios\")\n",
    "\n",
    "data = []\n",
    "\n",
    "for i in range(0,nomes_aleatorios):\n",
    "    data.append(random.choice(aux))\n",
    "\n",
    "with open(\"nomes_aleatorios.txt\",\"w\", newline=\"\") as arquivo:\n",
    "    for i, dados in enumerate(data):\n",
    "        arquivo.write(dados)\n",
    "        if i < len(data) - 1:\n",
    "            arquivo.write(\"\\n\")"
   ]
  }
 ],
 "metadata": {
  "kernelspec": {
   "display_name": "Python 3 (ipykernel)",
   "language": "python",
   "name": "python3"
  },
  "language_info": {
   "codemirror_mode": {
    "name": "ipython",
    "version": 3
   },
   "file_extension": ".py",
   "mimetype": "text/x-python",
   "name": "python",
   "nbconvert_exporter": "python",
   "pygments_lexer": "ipython3",
   "version": "3.12.4"
  }
 },
 "nbformat": 4,
 "nbformat_minor": 5
}
