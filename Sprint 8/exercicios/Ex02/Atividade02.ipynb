{
 "cells": [
  {
   "cell_type": "markdown",
   "id": "c5c45502-84b9-4131-8fed-8e259fc9c78b",
   "metadata": {},
   "source": [
    "# Importando bibliotecas"
   ]
  },
  {
   "cell_type": "code",
   "execution_count": 2,
   "id": "941ffdef-e1bf-477f-9710-84946d99f4c7",
   "metadata": {},
   "outputs": [],
   "source": [
    "from pyspark.sql import SparkSession\n",
    "from pyspark import SparkContext, SQLContext\n",
    "from pyspark.sql.types import StructType, StructField, StringType, IntegerType\n",
    "from pyspark.sql.functions import rand, when, col, round"
   ]
  },
  {
   "cell_type": "code",
   "execution_count": 3,
   "id": "736ad3d7-8b76-455c-a509-2d25152d62a2",
   "metadata": {},
   "outputs": [],
   "source": [
    "spark = SparkSession \\\n",
    "            .builder \\\n",
    "            .master(\"local[*]\")\\\n",
    "            .appName(\"Exercicio 02\")\\\n",
    "            .getOrCreate()"
   ]
  },
  {
   "cell_type": "markdown",
   "id": "1b06bae3-e3d0-4875-8ba8-36d3ecf9e32e",
   "metadata": {},
   "source": [
    "# Schemas"
   ]
  },
  {
   "cell_type": "code",
   "execution_count": 4,
   "id": "660cc8ab-e501-4594-9c7c-3a5705025a67",
   "metadata": {},
   "outputs": [],
   "source": [
    "schema = StructType([\n",
    "    StructField(\"Nomes\", StringType(), True),\n",
    "    StructField(\"Escolaridade\", StringType(), True),\n",
    "    StructField(\"Pais\", StringType(), True),\n",
    "    StructField(\"AnoNascimento\", IntegerType(), True)\n",
    "])"
   ]
  },
  {
   "cell_type": "markdown",
   "id": "bac4928c-0997-40d6-8aca-95fe1702b51c",
   "metadata": {},
   "source": [
    "# Etapa 1 "
   ]
  },
  {
   "cell_type": "code",
   "execution_count": 5,
   "id": "8c69868e-3519-4099-93b8-36027bc7d395",
   "metadata": {},
   "outputs": [
    {
     "name": "stdout",
     "output_type": "stream",
     "text": [
      "+-----------------+\n",
      "|              _c0|\n",
      "+-----------------+\n",
      "|   Frances Bennet|\n",
      "|    Jamie Russell|\n",
      "|   Edward Kistler|\n",
      "|    Sheila Maurer|\n",
      "| Donald Golightly|\n",
      "|       David Gray|\n",
      "|      Joy Bennett|\n",
      "|      Paul Kriese|\n",
      "|Berniece Ornellas|\n",
      "|    Brian Farrell|\n",
      "+-----------------+\n",
      "only showing top 10 rows\n",
      "\n"
     ]
    }
   ],
   "source": [
    "df = spark.read.csv(\"nomes_aleatorios.txt\", header=False)\n",
    "df_nomes = df\n",
    "df_nomes.show(10)"
   ]
  },
  {
   "cell_type": "markdown",
   "id": "ac989fd5-db85-4e4a-83d3-34fac9c7d19d",
   "metadata": {},
   "source": [
    "# Etapa 2"
   ]
  },
  {
   "cell_type": "code",
   "execution_count": 6,
   "id": "e4963b6d-e510-4b0c-ac30-5a466db6ed11",
   "metadata": {},
   "outputs": [
    {
     "name": "stdout",
     "output_type": "stream",
     "text": [
      "root\n",
      " |-- Nomes: string (nullable = true)\n",
      " |-- Escolaridade: string (nullable = true)\n",
      " |-- Pais: string (nullable = true)\n",
      " |-- AnoNascimento: integer (nullable = true)\n",
      "\n",
      "+-----------------+------------+----+-------------+\n",
      "|            Nomes|Escolaridade|Pais|AnoNascimento|\n",
      "+-----------------+------------+----+-------------+\n",
      "|   Frances Bennet|        NULL|NULL|         NULL|\n",
      "|    Jamie Russell|        NULL|NULL|         NULL|\n",
      "|   Edward Kistler|        NULL|NULL|         NULL|\n",
      "|    Sheila Maurer|        NULL|NULL|         NULL|\n",
      "| Donald Golightly|        NULL|NULL|         NULL|\n",
      "|       David Gray|        NULL|NULL|         NULL|\n",
      "|      Joy Bennett|        NULL|NULL|         NULL|\n",
      "|      Paul Kriese|        NULL|NULL|         NULL|\n",
      "|Berniece Ornellas|        NULL|NULL|         NULL|\n",
      "|    Brian Farrell|        NULL|NULL|         NULL|\n",
      "+-----------------+------------+----+-------------+\n",
      "only showing top 10 rows\n",
      "\n"
     ]
    }
   ],
   "source": [
    "df = spark.read.csv(\"nomes_aleatorios.txt\", header=False, schema=schema, sep=\",\")\n",
    "df_nomes = df.withColumnRenamed(\"value\", \"Nomes\")\n",
    "df_nomes.printSchema()\n",
    "df_nomes.show(10)"
   ]
  },
  {
   "cell_type": "markdown",
   "id": "e45e1094-851b-464f-9248-df826a3d1b1b",
   "metadata": {},
   "source": [
    "# Etapa 3"
   ]
  },
  {
   "cell_type": "code",
   "execution_count": 7,
   "id": "86da6818-3023-406a-bbfb-c671991dfd11",
   "metadata": {},
   "outputs": [
    {
     "name": "stdout",
     "output_type": "stream",
     "text": [
      "+-----------------+------------+----+-------------+\n",
      "|            Nomes|Escolaridade|Pais|AnoNascimento|\n",
      "+-----------------+------------+----+-------------+\n",
      "|   Frances Bennet|    Superior|NULL|         NULL|\n",
      "|    Jamie Russell| Fundamental|NULL|         NULL|\n",
      "|   Edward Kistler|    Superior|NULL|         NULL|\n",
      "|    Sheila Maurer| Fundamental|NULL|         NULL|\n",
      "| Donald Golightly| Fundamental|NULL|         NULL|\n",
      "|       David Gray| Fundamental|NULL|         NULL|\n",
      "|      Joy Bennett| Fundamental|NULL|         NULL|\n",
      "|      Paul Kriese|       Medio|NULL|         NULL|\n",
      "|Berniece Ornellas|    Superior|NULL|         NULL|\n",
      "|    Brian Farrell|    Superior|NULL|         NULL|\n",
      "+-----------------+------------+----+-------------+\n",
      "only showing top 10 rows\n",
      "\n"
     ]
    }
   ],
   "source": [
    "df = spark.read.csv(\"nomes_aleatorios.txt\", header=False, schema=schema, sep=\",\")\n",
    "df_nomes = df_nomes.withColumn(\"Escolaridade\",\n",
    "                         when(rand() < 0.3, \"Fundamental\")\n",
    "                         .when(rand() >=0.3,\"Medio\")\n",
    "                         .otherwise(\"Superior\"))\n",
    "df_nomes.show(10)\n"
   ]
  },
  {
   "cell_type": "markdown",
   "id": "b60b6640-c0e6-48e6-8edc-6bd207e9edd2",
   "metadata": {},
   "source": [
    "# Etapa 4"
   ]
  },
  {
   "cell_type": "code",
   "execution_count": 8,
   "id": "fd044932-6e96-478c-a6d9-ede01dd9e17a",
   "metadata": {},
   "outputs": [
    {
     "name": "stdout",
     "output_type": "stream",
     "text": [
      "+-----------------+------------+-------+-------------+\n",
      "|            Nomes|Escolaridade|   Pais|AnoNascimento|\n",
      "+-----------------+------------+-------+-------------+\n",
      "|   Frances Bennet|    Superior|Bolívia|         NULL|\n",
      "|    Jamie Russell| Fundamental| Brasil|         NULL|\n",
      "|   Edward Kistler|    Superior|  Chile|         NULL|\n",
      "|    Sheila Maurer| Fundamental|Bolívia|         NULL|\n",
      "| Donald Golightly| Fundamental|Bolívia|         NULL|\n",
      "|       David Gray| Fundamental|Bolívia|         NULL|\n",
      "|      Joy Bennett| Fundamental|Bolívia|         NULL|\n",
      "|      Paul Kriese|       Medio|Bolívia|         NULL|\n",
      "|Berniece Ornellas|    Superior|Bolívia|         NULL|\n",
      "|    Brian Farrell|    Superior| Brasil|         NULL|\n",
      "+-----------------+------------+-------+-------------+\n",
      "only showing top 10 rows\n",
      "\n"
     ]
    }
   ],
   "source": [
    "df_nomes= df_nomes.withColumn(\"Pais\", \n",
    "                       when(rand() < 0.0769, \"Argentina\")\n",
    "                        .when(rand() >= 0.3069, \"Bolívia\")\n",
    "                        .when(rand() >= 0.1538, \"Brasil\")\n",
    "                        .when(rand() >= 0.2307, \"Chile\")\n",
    "                        .when(rand() >= 0.3076, \"Colômbia\")\n",
    "                        .when(rand() >= 0.3845, \"Equador\")\n",
    "                        .when(rand() >= 0.4614, \"Guiana\")\n",
    "                        .when(rand() >= 0.5383, \"França (Guiana Francesa)\")\n",
    "                        .when(rand() >= 0.6152, \"Paraguai\")\n",
    "                        .when(rand() >= 0.6921, \"Peru\")\n",
    "                        .when(rand() >= 0.769, \"Suriname\")\n",
    "                        .when(rand() >= 0.8459, \"Uruguai\")\n",
    "                        .when(rand() >= 0.9228, \"Venezuela\"))                          \n",
    "df_nomes.show(10)"
   ]
  },
  {
   "cell_type": "markdown",
   "id": "eb2e5b0c-f5cb-4fa0-b45b-99cd5c731240",
   "metadata": {},
   "source": [
    "# Etapa 5"
   ]
  },
  {
   "cell_type": "code",
   "execution_count": 9,
   "id": "09f19549-4d73-4a50-aad1-16a9e686f180",
   "metadata": {},
   "outputs": [
    {
     "name": "stdout",
     "output_type": "stream",
     "text": [
      "+-----------------+------------+-------+-------------+\n",
      "|            Nomes|Escolaridade|   Pais|AnoNascimento|\n",
      "+-----------------+------------+-------+-------------+\n",
      "|   Frances Bennet|    Superior|Bolívia|         1974|\n",
      "|    Jamie Russell| Fundamental| Brasil|         1946|\n",
      "|   Edward Kistler|    Superior|  Chile|         1979|\n",
      "|    Sheila Maurer| Fundamental|Bolívia|         1997|\n",
      "| Donald Golightly| Fundamental|Bolívia|         1989|\n",
      "|       David Gray| Fundamental|Bolívia|         1993|\n",
      "|      Joy Bennett| Fundamental|Bolívia|         1984|\n",
      "|      Paul Kriese|       Medio|Bolívia|         1957|\n",
      "|Berniece Ornellas|    Superior|Bolívia|         1993|\n",
      "|    Brian Farrell|    Superior| Brasil|         2004|\n",
      "+-----------------+------------+-------+-------------+\n",
      "only showing top 10 rows\n",
      "\n"
     ]
    }
   ],
   "source": [
    "df_nomes = df_nomes.withColumn(\"AnoNascimento\",\n",
    "                              round(1945 + (2010 - 1945) * rand()).cast(\"integer\"))\n",
    "df_nomes.show(10)"
   ]
  },
  {
   "cell_type": "markdown",
   "id": "5e2341fd-039f-420d-bc14-e539d3f7c8f2",
   "metadata": {},
   "source": [
    "# Etapa 6"
   ]
  },
  {
   "cell_type": "code",
   "execution_count": 10,
   "id": "d91da624-e87b-4dc9-9bcc-c9580d884a8d",
   "metadata": {},
   "outputs": [
    {
     "name": "stdout",
     "output_type": "stream",
     "text": [
      "+----------------+------------+---------+-------------+\n",
      "|           Nomes|Escolaridade|     Pais|AnoNascimento|\n",
      "+----------------+------------+---------+-------------+\n",
      "|   Brian Farrell|    Superior|   Brasil|         2004|\n",
      "|     Page Marthe|       Medio|  Bolívia|         2001|\n",
      "|         Lois Ly|    Superior|  Bolívia|         2007|\n",
      "|Wallace Mitchell|       Medio|   Brasil|         2001|\n",
      "|  Amanda Gravitt|    Superior|  Bolívia|         2009|\n",
      "|        Mary Lee|    Superior|  Bolívia|         2010|\n",
      "|    Jerry Remick|       Medio|Argentina|         2002|\n",
      "| Suzanne Bullard| Fundamental|  Bolívia|         2003|\n",
      "| Pamela Banuelos|       Medio|  Bolívia|         2003|\n",
      "|   Theresa Avila|       Medio|  Bolívia|         2009|\n",
      "+----------------+------------+---------+-------------+\n",
      "only showing top 10 rows\n",
      "\n"
     ]
    }
   ],
   "source": [
    "\n",
    "df_select = df_nomes.where(col(\"AnoNascimento\") >= 2001)\n",
    "\n",
    "df_select.show(10)"
   ]
  },
  {
   "cell_type": "markdown",
   "id": "562c4df5-52e3-4231-9e04-fb68e4dfee51",
   "metadata": {},
   "source": [
    "# Etapa 7"
   ]
  },
  {
   "cell_type": "code",
   "execution_count": 11,
   "id": "10741b08-24b5-4015-98a1-f3376b727178",
   "metadata": {},
   "outputs": [
    {
     "name": "stdout",
     "output_type": "stream",
     "text": [
      "+-----------------+------------+-------+-------------+\n",
      "|            Nomes|Escolaridade|   Pais|AnoNascimento|\n",
      "+-----------------+------------+-------+-------------+\n",
      "|   Frances Bennet|    Superior|Bolívia|         1974|\n",
      "|    Jamie Russell| Fundamental| Brasil|         1946|\n",
      "|   Edward Kistler|    Superior|  Chile|         1979|\n",
      "|    Sheila Maurer| Fundamental|Bolívia|         1997|\n",
      "| Donald Golightly| Fundamental|Bolívia|         1989|\n",
      "|       David Gray| Fundamental|Bolívia|         1993|\n",
      "|      Joy Bennett| Fundamental|Bolívia|         1984|\n",
      "|      Paul Kriese|       Medio|Bolívia|         1957|\n",
      "|Berniece Ornellas|    Superior|Bolívia|         1993|\n",
      "|    Brian Farrell|    Superior| Brasil|         2004|\n",
      "|   Kara Mcelwaine|    Superior| Brasil|         1959|\n",
      "|    Tracy Herring|       Medio| Brasil|         1985|\n",
      "|  Howard Lazarine|       Medio|Bolívia|         1955|\n",
      "|     Leroy Strahl|    Superior|Bolívia|         1948|\n",
      "|     Ernest Hulet| Fundamental|Bolívia|         1958|\n",
      "|     David Medina| Fundamental|Bolívia|         1952|\n",
      "|   Lorenzo Woodis| Fundamental| Brasil|         1949|\n",
      "|      Page Marthe|       Medio|Bolívia|         2001|\n",
      "|   Herbert Morris| Fundamental|Bolívia|         1999|\n",
      "|      Albert Leef| Fundamental| Brasil|         1952|\n",
      "+-----------------+------------+-------+-------------+\n",
      "only showing top 20 rows\n",
      "\n"
     ]
    }
   ],
   "source": [
    "# if not spark.catalog.tableExists(\"Person\"):\n",
    "#     df_nomes.write.saveAsTable(\"Person\")\n",
    "    \n",
    "#df_select= spark.table(\"Person\")\n",
    "\n",
    "df_nomes.createOrReplaceTempView(\"Person\")\n",
    "spark.sql(\"select * from Person\").show()"
   ]
  },
  {
   "cell_type": "markdown",
   "id": "4034b518-2fca-43a9-82d2-c9c0166c5094",
   "metadata": {},
   "source": [
    "# Etapa 8"
   ]
  },
  {
   "cell_type": "code",
   "execution_count": 12,
   "id": "18f92d52-92ce-48d6-bb29-8274f8f68f45",
   "metadata": {},
   "outputs": [
    {
     "name": "stdout",
     "output_type": "stream",
     "text": [
      "O numero de individuos que são da geração Millennials:2307599\n"
     ]
    }
   ],
   "source": [
    "Num_Millennials = spark.sql(\"select * from Person where AnoNascimento BETWEEN 1980 AND 1994\").count()\n",
    "print(f\"O numero de individuos que são da geração Millennials:{Num_Millennials}\")"
   ]
  },
  {
   "cell_type": "markdown",
   "id": "1cf34e12-3ce8-44e0-9a18-57d2d5fec216",
   "metadata": {},
   "source": [
    "# Etapa 9"
   ]
  },
  {
   "cell_type": "code",
   "execution_count": 13,
   "id": "e1ccc7d3-8972-4494-ad02-c8696129dd9f",
   "metadata": {},
   "outputs": [
    {
     "name": "stdout",
     "output_type": "stream",
     "text": [
      "+-----------------+\n",
      "|Millennials_Count|\n",
      "+-----------------+\n",
      "|          2307599|\n",
      "+-----------------+\n",
      "\n"
     ]
    }
   ],
   "source": [
    "df_Millennials = spark.sql(\"SELECT COUNT(*) AS Millennials_Count FROM Person WHERE AnoNascimento BETWEEN 1980 AND 1994\")\n",
    "df_Millennials.show()"
   ]
  },
  {
   "cell_type": "markdown",
   "id": "4425e524-a8ae-4149-a339-b3bf2148d050",
   "metadata": {},
   "source": [
    "# Etapa 10"
   ]
  },
  {
   "cell_type": "code",
   "execution_count": 15,
   "id": "7a4ac86e-35df-4d6b-9df6-2b0195953d91",
   "metadata": {},
   "outputs": [
    {
     "name": "stdout",
     "output_type": "stream",
     "text": [
      "+---------+------------+----------+\n",
      "|     Pais|     Geracao|Quantidade|\n",
      "+---------+------------+----------+\n",
      "|Argentina|Baby Boomers|    230116|\n",
      "|Argentina|   Geração X|    176650|\n",
      "|Argentina|   Geração Z|    183532|\n",
      "|Argentina| Millennials|    177325|\n",
      "|  Bolívia|Baby Boomers|   1919580|\n",
      "|  Bolívia|   Geração X|   1477158|\n",
      "|  Bolívia|   Geração Z|   1526685|\n",
      "|  Bolívia| Millennials|   1477523|\n",
      "|   Brasil|Baby Boomers|    720302|\n",
      "|   Brasil|   Geração X|    553181|\n",
      "|   Brasil|   Geração Z|    570381|\n",
      "|   Brasil| Millennials|    552537|\n",
      "|    Chile|Baby Boomers|    100215|\n",
      "|    Chile|   Geração X|     77511|\n",
      "|    Chile|   Geração Z|     79458|\n",
      "|    Chile| Millennials|     76979|\n",
      "| Colômbia|Baby Boomers|     20794|\n",
      "| Colômbia|   Geração X|     16170|\n",
      "| Colômbia|   Geração Z|     16582|\n",
      "| Colômbia| Millennials|     16068|\n",
      "+---------+------------+----------+\n",
      "only showing top 20 rows\n",
      "\n"
     ]
    }
   ],
   "source": [
    "df_nomes.createOrReplaceTempView(\"Person\")\n",
    "df_result = spark.sql(\"\"\"\n",
    "    SELECT \n",
    "        Pais,\n",
    "        CASE\n",
    "            WHEN AnoNascimento BETWEEN 1944 AND 1964 THEN 'Baby Boomers'\n",
    "            WHEN AnoNascimento BETWEEN 1965 AND 1979 THEN 'Geração X'\n",
    "            WHEN AnoNascimento BETWEEN 1980 AND 1994 THEN 'Millennials'\n",
    "            WHEN AnoNascimento BETWEEN 1995 AND 2015 THEN 'Geração Z'\n",
    "        END AS Geracao,\n",
    "        COUNT(*) AS Quantidade\n",
    "    FROM Person\n",
    "    WHERE Pais IS NOT NULL\n",
    "    GROUP BY Pais, Geracao\n",
    "    ORDER BY Pais, Geracao, Quantidade\n",
    "\"\"\")\n",
    "\n",
    "df_result.show()"
   ]
  },
  {
   "cell_type": "code",
   "execution_count": null,
   "id": "469486f7-c6ce-4555-8ef8-f08a88f5fc73",
   "metadata": {},
   "outputs": [],
   "source": []
  }
 ],
 "metadata": {
  "kernelspec": {
   "display_name": "Python 3 (ipykernel)",
   "language": "python",
   "name": "python3"
  },
  "language_info": {
   "codemirror_mode": {
    "name": "ipython",
    "version": 3
   },
   "file_extension": ".py",
   "mimetype": "text/x-python",
   "name": "python",
   "nbconvert_exporter": "python",
   "pygments_lexer": "ipython3",
   "version": "3.11.6"
  }
 },
 "nbformat": 4,
 "nbformat_minor": 5
}
